{
 "cells": [
  {
   "cell_type": "markdown",
   "id": "1def3ae1",
   "metadata": {
    "papermill": {
     "duration": 0.009128,
     "end_time": "2024-02-11T18:47:07.863426",
     "exception": false,
     "start_time": "2024-02-11T18:47:07.854298",
     "status": "completed"
    },
    "tags": []
   },
   "source": [
    "# Sentiment Analysis "
   ]
  },
  {
   "cell_type": "markdown",
   "id": "dad0cea6",
   "metadata": {
    "papermill": {
     "duration": 0.007279,
     "end_time": "2024-02-11T18:47:07.878974",
     "exception": false,
     "start_time": "2024-02-11T18:47:07.871695",
     "status": "completed"
    },
    "tags": []
   },
   "source": [
    "## Step 0: Read Data and NLTK Basics"
   ]
  },
  {
   "cell_type": "code",
   "execution_count": 1,
   "id": "d4e9e242",
   "metadata": {
    "_cell_guid": "b1076dfc-b9ad-4769-8c92-a6c4dae69d19",
    "_uuid": "8f2839f25d086af736a60e9eeb907d3b93b6e0e5",
    "execution": {
     "iopub.execute_input": "2024-02-11T18:47:07.896553Z",
     "iopub.status.busy": "2024-02-11T18:47:07.895661Z",
     "iopub.status.idle": "2024-02-11T18:47:11.122855Z",
     "shell.execute_reply": "2024-02-11T18:47:11.121721Z"
    },
    "papermill": {
     "duration": 3.238982,
     "end_time": "2024-02-11T18:47:11.125583",
     "exception": false,
     "start_time": "2024-02-11T18:47:07.886601",
     "status": "completed"
    },
    "tags": []
   },
   "outputs": [],
   "source": [
    "import pandas as pd\n",
    "import numpy as np\n",
    "import matplotlib.pyplot as plt\n",
    "import seaborn as sns\n",
    "\n",
    "plt.style.use(\"ggplot\")\n",
    "import nltk\n"
   ]
  },
  {
   "cell_type": "code",
   "execution_count": 2,
   "id": "e325d7be",
   "metadata": {
    "execution": {
     "iopub.execute_input": "2024-02-11T18:47:11.142323Z",
     "iopub.status.busy": "2024-02-11T18:47:11.141724Z",
     "iopub.status.idle": "2024-02-11T18:47:18.942483Z",
     "shell.execute_reply": "2024-02-11T18:47:18.941176Z"
    },
    "papermill": {
     "duration": 7.812505,
     "end_time": "2024-02-11T18:47:18.945414",
     "exception": false,
     "start_time": "2024-02-11T18:47:11.132909",
     "status": "completed"
    },
    "tags": []
   },
   "outputs": [
    {
     "name": "stdout",
     "output_type": "stream",
     "text": [
      "(500, 10)\n"
     ]
    }
   ],
   "source": [
    "#Read in data\n",
    "df = pd.read_csv(\"../input/amazon/Reviews.csv\")\n",
    "#Reduce data bc file is large\n",
    "df=df.head(500)\n",
    "print(df.shape)"
   ]
  },
  {
   "cell_type": "markdown",
   "id": "1c67ab36",
   "metadata": {
    "papermill": {
     "duration": 0.007156,
     "end_time": "2024-02-11T18:47:18.960611",
     "exception": false,
     "start_time": "2024-02-11T18:47:18.953455",
     "status": "completed"
    },
    "tags": []
   },
   "source": [
    "### Quick EDA\n"
   ]
  },
  {
   "cell_type": "code",
   "execution_count": 3,
   "id": "36cedc5f",
   "metadata": {
    "execution": {
     "iopub.execute_input": "2024-02-11T18:47:18.977282Z",
     "iopub.status.busy": "2024-02-11T18:47:18.976843Z",
     "iopub.status.idle": "2024-02-11T18:47:19.265463Z",
     "shell.execute_reply": "2024-02-11T18:47:19.264565Z"
    },
    "papermill": {
     "duration": 0.299624,
     "end_time": "2024-02-11T18:47:19.267810",
     "exception": false,
     "start_time": "2024-02-11T18:47:18.968186",
     "status": "completed"
    },
    "tags": []
   },
   "outputs": [
    {
     "data": {
      "image/png": "[encoded data removed]",
      "text/plain": [
       "<Figure size 1000x500 with 1 Axes>"
      ]
     },
     "metadata": {},
     "output_type": "display_data"
    }
   ],
   "source": [
    "ax = df['Score'].value_counts().sort_index().plot(kind = 'bar',title = \"Count of Reviews by Stars\", figsize=(10,5))\n",
    "ax.set_xlabel('Review Stars')\n",
    "plt.show()"
   ]
  },
  {
   "cell_type": "markdown",
   "id": "fdf9198d",
   "metadata": {
    "papermill": {
     "duration": 0.007709,
     "end_time": "2024-02-11T18:47:19.284757",
     "exception": false,
     "start_time": "2024-02-11T18:47:19.277048",
     "status": "completed"
    },
    "tags": []
   },
   "source": [
    "### Basic NLTK"
   ]
  },
  {
   "cell_type": "code",
   "execution_count": 4,
   "id": "7a39acb3",
   "metadata": {
    "execution": {
     "iopub.execute_input": "2024-02-11T18:47:19.302332Z",
     "iopub.status.busy": "2024-02-11T18:47:19.301895Z",
     "iopub.status.idle": "2024-02-11T18:47:19.308364Z",
     "shell.execute_reply": "2024-02-11T18:47:19.307168Z"
    },
    "papermill": {
     "duration": 0.017977,
     "end_time": "2024-02-11T18:47:19.310659",
     "exception": false,
     "start_time": "2024-02-11T18:47:19.292682",
     "status": "completed"
    },
    "tags": []
   },
   "outputs": [
    {
     "name": "stdout",
     "output_type": "stream",
     "text": [
      "This oatmeal is not good. Its mushy, soft, I don't like it. Quaker Oats is the way to go.\n"
     ]
    }
   ],
   "source": [
    "example = df['Text'][50]\n",
    "print(example)"
   ]
  },
  {
   "cell_type": "code",
   "execution_count": 5,
   "id": "5976a098",
   "metadata": {
    "execution": {
     "iopub.execute_input": "2024-02-11T18:47:19.329292Z",
     "iopub.status.busy": "2024-02-11T18:47:19.328866Z",
     "iopub.status.idle": "2024-02-11T18:47:19.352412Z",
     "shell.execute_reply": "2024-02-11T18:47:19.351313Z"
    },
    "papermill": {
     "duration": 0.03559,
     "end_time": "2024-02-11T18:47:19.354654",
     "exception": false,
     "start_time": "2024-02-11T18:47:19.319064",
     "status": "completed"
    },
    "tags": []
   },
   "outputs": [
    {
     "data": {
      "text/plain": [
       "['This', 'oatmeal', 'is', 'not', 'good', '.', 'Its', 'mushy', ',', 'soft']"
      ]
     },
     "execution_count": 5,
     "metadata": {},
     "output_type": "execute_result"
    }
   ],
   "source": [
    "tokens = nltk.word_tokenize(example)\n",
    "tokens[:10]"
   ]
  },
  {
   "cell_type": "code",
   "execution_count": 6,
   "id": "c3273867",
   "metadata": {
    "execution": {
     "iopub.execute_input": "2024-02-11T18:47:19.373269Z",
     "iopub.status.busy": "2024-02-11T18:47:19.372032Z",
     "iopub.status.idle": "2024-02-11T18:47:19.530899Z",
     "shell.execute_reply": "2024-02-11T18:47:19.529627Z"
    },
    "papermill": {
     "duration": 0.170917,
     "end_time": "2024-02-11T18:47:19.533552",
     "exception": false,
     "start_time": "2024-02-11T18:47:19.362635",
     "status": "completed"
    },
    "tags": []
   },
   "outputs": [
    {
     "data": {
      "text/plain": [
       "[('This', 'DT'),\n",
       " ('oatmeal', 'NN'),\n",
       " ('is', 'VBZ'),\n",
       " ('not', 'RB'),\n",
       " ('good', 'JJ'),\n",
       " ('.', '.'),\n",
       " ('Its', 'PRP$'),\n",
       " ('mushy', 'NN'),\n",
       " (',', ','),\n",
       " ('soft', 'JJ')]"
      ]
     },
     "execution_count": 6,
     "metadata": {},
     "output_type": "execute_result"
    }
   ],
   "source": [
    "#Part of speech function pos\n",
    "tagged = nltk.pos_tag(tokens)\n",
    "tagged[:10]"
   ]
  },
  {
   "cell_type": "code",
   "execution_count": 7,
   "id": "93563dc3",
   "metadata": {
    "execution": {
     "iopub.execute_input": "2024-02-11T18:47:19.551841Z",
     "iopub.status.busy": "2024-02-11T18:47:19.551449Z",
     "iopub.status.idle": "2024-02-11T18:47:19.695566Z",
     "shell.execute_reply": "2024-02-11T18:47:19.693829Z"
    },
    "papermill": {
     "duration": 0.156207,
     "end_time": "2024-02-11T18:47:19.698021",
     "exception": false,
     "start_time": "2024-02-11T18:47:19.541814",
     "status": "completed"
    },
    "tags": []
   },
   "outputs": [
    {
     "name": "stdout",
     "output_type": "stream",
     "text": [
      "(S\n",
      "  This/DT\n",
      "  oatmeal/NN\n",
      "  is/VBZ\n",
      "  not/RB\n",
      "  good/JJ\n",
      "  ./.\n",
      "  Its/PRP$\n",
      "  mushy/NN\n",
      "  ,/,\n",
      "  soft/JJ\n",
      "  ,/,\n",
      "  I/PRP\n",
      "  do/VBP\n",
      "  n't/RB\n",
      "  like/VB\n",
      "  it/PRP\n",
      "  ./.\n",
      "  (ORGANIZATION Quaker/NNP Oats/NNPS)\n",
      "  is/VBZ\n",
      "  the/DT\n",
      "  way/NN\n",
      "  to/TO\n",
      "  go/VB\n",
      "  ./.)\n"
     ]
    }
   ],
   "source": [
    "entities = nltk.chunk.ne_chunk(tagged)\n",
    "print(entities)"
   ]
  },
  {
   "cell_type": "markdown",
   "id": "a0d625f7",
   "metadata": {
    "papermill": {
     "duration": 0.008261,
     "end_time": "2024-02-11T18:47:19.716225",
     "exception": false,
     "start_time": "2024-02-11T18:47:19.707964",
     "status": "completed"
    },
    "tags": []
   },
   "source": [
    "## Step 1. VADER Seniment Scoring"
   ]
  },
  {
   "cell_type": "markdown",
   "id": "dddd0ed3",
   "metadata": {
    "papermill": {
     "duration": 0.008124,
     "end_time": "2024-02-11T18:47:19.732760",
     "exception": false,
     "start_time": "2024-02-11T18:47:19.724636",
     "status": "completed"
    },
    "tags": []
   },
   "source": [
    "* This uses a \"bag of words\" approach:\n",
    "    1. Stop words are removed\n",
    "    2. each word is scored and combined to a total score."
   ]
  },
  {
   "cell_type": "code",
   "execution_count": 8,
   "id": "11e18d5a",
   "metadata": {
    "execution": {
     "iopub.execute_input": "2024-02-11T18:47:19.752195Z",
     "iopub.status.busy": "2024-02-11T18:47:19.751559Z",
     "iopub.status.idle": "2024-02-11T18:47:19.794036Z",
     "shell.execute_reply": "2024-02-11T18:47:19.792492Z"
    },
    "papermill": {
     "duration": 0.055361,
     "end_time": "2024-02-11T18:47:19.796682",
     "exception": false,
     "start_time": "2024-02-11T18:47:19.741321",
     "status": "completed"
    },
    "tags": []
   },
   "outputs": [
    {
     "name": "stderr",
     "output_type": "stream",
     "text": [
      "/opt/conda/lib/python3.10/site-packages/nltk/twitter/__init__.py:20: UserWarning: The twython library has not been installed. Some functionality from the twitter package will not be available.\n",
      "  warnings.warn(\"The twython library has not been installed. \"\n"
     ]
    }
   ],
   "source": [
    "from nltk.sentiment import SentimentIntensityAnalyzer\n",
    "from tqdm.notebook import tqdm\n",
    "\n",
    "sia = SentimentIntensityAnalyzer()\n"
   ]
  },
  {
   "cell_type": "code",
   "execution_count": 9,
   "id": "0c0fa20c",
   "metadata": {
    "execution": {
     "iopub.execute_input": "2024-02-11T18:47:19.815440Z",
     "iopub.status.busy": "2024-02-11T18:47:19.815047Z",
     "iopub.status.idle": "2024-02-11T18:47:19.822665Z",
     "shell.execute_reply": "2024-02-11T18:47:19.821354Z"
    },
    "papermill": {
     "duration": 0.019953,
     "end_time": "2024-02-11T18:47:19.825157",
     "exception": false,
     "start_time": "2024-02-11T18:47:19.805204",
     "status": "completed"
    },
    "tags": []
   },
   "outputs": [
    {
     "data": {
      "text/plain": [
       "{'neg': 0.0, 'neu': 0.233, 'pos': 0.767, 'compound': 0.5106}"
      ]
     },
     "execution_count": 9,
     "metadata": {},
     "output_type": "execute_result"
    }
   ],
   "source": [
    "#Testing the module\n",
    "sia.polarity_scores('I am delighted')"
   ]
  },
  {
   "cell_type": "code",
   "execution_count": 10,
   "id": "81ec1e98",
   "metadata": {
    "execution": {
     "iopub.execute_input": "2024-02-11T18:47:19.844916Z",
     "iopub.status.busy": "2024-02-11T18:47:19.844542Z",
     "iopub.status.idle": "2024-02-11T18:47:19.852026Z",
     "shell.execute_reply": "2024-02-11T18:47:19.850927Z"
    },
    "papermill": {
     "duration": 0.020105,
     "end_time": "2024-02-11T18:47:19.854454",
     "exception": false,
     "start_time": "2024-02-11T18:47:19.834349",
     "status": "completed"
    },
    "tags": []
   },
   "outputs": [
    {
     "data": {
      "text/plain": [
       "{'neg': 0.22, 'neu': 0.78, 'pos': 0.0, 'compound': -0.5448}"
      ]
     },
     "execution_count": 10,
     "metadata": {},
     "output_type": "execute_result"
    }
   ],
   "source": [
    "sia.polarity_scores(example)"
   ]
  },
  {
   "cell_type": "code",
   "execution_count": 11,
   "id": "63b3b70c",
   "metadata": {
    "execution": {
     "iopub.execute_input": "2024-02-11T18:47:19.873827Z",
     "iopub.status.busy": "2024-02-11T18:47:19.873453Z",
     "iopub.status.idle": "2024-02-11T18:47:20.545930Z",
     "shell.execute_reply": "2024-02-11T18:47:20.545061Z"
    },
    "papermill": {
     "duration": 0.686121,
     "end_time": "2024-02-11T18:47:20.549434",
     "exception": false,
     "start_time": "2024-02-11T18:47:19.863313",
     "status": "completed"
    },
    "tags": []
   },
   "outputs": [
    {
     "data": {
      "application/vnd.jupyter.widget-view+json": {
       "model_id": "6ff9dc0138ef4a878386f7bd658c3948",
       "version_major": 2,
       "version_minor": 0
      },
      "text/plain": [
       "  0%|          | 0/500 [00:00<?, ?it/s]"
      ]
     },
     "metadata": {},
     "output_type": "display_data"
    }
   ],
   "source": [
    "# Run the polarity score on the entire dataset\n",
    "res = {}\n",
    "for i, row in tqdm(df.iterrows(), total=len(df)):\n",
    "    text = row['Text']\n",
    "    myid = row['Id']\n",
    "    res[myid] = sia.polarity_scores(text)"
   ]
  },
  {
   "cell_type": "code",
   "execution_count": 12,
   "id": "e482532b",
   "metadata": {
    "execution": {
     "iopub.execute_input": "2024-02-11T18:47:20.569943Z",
     "iopub.status.busy": "2024-02-11T18:47:20.568838Z",
     "iopub.status.idle": "2024-02-11T18:47:20.600444Z",
     "shell.execute_reply": "2024-02-11T18:47:20.599160Z"
    },
    "papermill": {
     "duration": 0.04519,
     "end_time": "2024-02-11T18:47:20.603664",
     "exception": false,
     "start_time": "2024-02-11T18:47:20.558474",
     "status": "completed"
    },
    "tags": []
   },
   "outputs": [],
   "source": [
    "vaders = pd.DataFrame(res).T\n",
    "vaders = vaders.reset_index().rename(columns = {'index': 'Id'})\n",
    "vaders = vaders.merge(df, how = 'left')"
   ]
  },
  {
   "cell_type": "code",
   "execution_count": 13,
   "id": "43f377d5",
   "metadata": {
    "execution": {
     "iopub.execute_input": "2024-02-11T18:47:20.623998Z",
     "iopub.status.busy": "2024-02-11T18:47:20.623587Z",
     "iopub.status.idle": "2024-02-11T18:47:20.646330Z",
     "shell.execute_reply": "2024-02-11T18:47:20.645252Z"
    },
    "papermill": {
     "duration": 0.036064,
     "end_time": "2024-02-11T18:47:20.648949",
     "exception": false,
     "start_time": "2024-02-11T18:47:20.612885",
     "status": "completed"
    },
    "tags": []
   },
   "outputs": [
    {
     "data": {
      "text/html": [
       "<div>\n",
       "<style scoped>\n",
       "    .dataframe tbody tr th:only-of-type {\n",
       "        vertical-align: middle;\n",
       "    }\n",
       "\n",
       "    .dataframe tbody tr th {\n",
       "        vertical-align: top;\n",
       "    }\n",
       "\n",
       "    .dataframe thead th {\n",
       "        text-align: right;\n",
       "    }\n",
       "</style>\n",
       "<table border=\"1\" class=\"dataframe\">\n",
       "  <thead>\n",
       "    <tr style=\"text-align: right;\">\n",
       "      <th></th>\n",
       "      <th>Id</th>\n",
       "      <th>neg</th>\n",
       "      <th>neu</th>\n",
       "      <th>pos</th>\n",
       "      <th>compound</th>\n",
       "      <th>ProductId</th>\n",
       "      <th>UserId</th>\n",
       "      <th>ProfileName</th>\n",
       "      <th>HelpfulnessNumerator</th>\n",
       "      <th>HelpfulnessDenominator</th>\n",
       "      <th>Score</th>\n",
       "      <th>Time</th>\n",
       "      <th>Summary</th>\n",
       "      <th>Text</th>\n",
       "    </tr>\n",
       "  </thead>\n",
       "  <tbody>\n",
       "    <tr>\n",
       "      <th>0</th>\n",
       "      <td>1</td>\n",
       "      <td>0.000</td>\n",
       "      <td>0.695</td>\n",
       "      <td>0.305</td>\n",
       "      <td>0.9441</td>\n",
       "      <td>B001E4KFG0</td>\n",
       "      <td>A3SGXH7AUHU8GW</td>\n",
       "      <td>delmartian</td>\n",
       "      <td>1</td>\n",
       "      <td>1</td>\n",
       "      <td>5</td>\n",
       "      <td>1303862400</td>\n",
       "      <td>Good Quality Dog Food</td>\n",
       "      <td>I have bought several of the Vitality canned d...</td>\n",
       "    </tr>\n",
       "    <tr>\n",
       "      <th>1</th>\n",
       "      <td>2</td>\n",
       "      <td>0.079</td>\n",
       "      <td>0.853</td>\n",
       "      <td>0.068</td>\n",
       "      <td>-0.1027</td>\n",
       "      <td>B00813GRG4</td>\n",
       "      <td>A1D87F6ZCVE5NK</td>\n",
       "      <td>dll pa</td>\n",
       "      <td>0</td>\n",
       "      <td>0</td>\n",
       "      <td>1</td>\n",
       "      <td>1346976000</td>\n",
       "      <td>Not as Advertised</td>\n",
       "      <td>Product arrived labeled as Jumbo Salted Peanut...</td>\n",
       "    </tr>\n",
       "    <tr>\n",
       "      <th>2</th>\n",
       "      <td>3</td>\n",
       "      <td>0.091</td>\n",
       "      <td>0.754</td>\n",
       "      <td>0.155</td>\n",
       "      <td>0.8265</td>\n",
       "      <td>B000LQOCH0</td>\n",
       "      <td>ABXLMWJIXXAIN</td>\n",
       "      <td>Natalia Corres \"Natalia Corres\"</td>\n",
       "      <td>1</td>\n",
       "      <td>1</td>\n",
       "      <td>4</td>\n",
       "      <td>1219017600</td>\n",
       "      <td>\"Delight\" says it all</td>\n",
       "      <td>This is a confection that has been around a fe...</td>\n",
       "    </tr>\n",
       "    <tr>\n",
       "      <th>3</th>\n",
       "      <td>4</td>\n",
       "      <td>0.000</td>\n",
       "      <td>1.000</td>\n",
       "      <td>0.000</td>\n",
       "      <td>0.0000</td>\n",
       "      <td>B000UA0QIQ</td>\n",
       "      <td>A395BORC6FGVXV</td>\n",
       "      <td>Karl</td>\n",
       "      <td>3</td>\n",
       "      <td>3</td>\n",
       "      <td>2</td>\n",
       "      <td>1307923200</td>\n",
       "      <td>Cough Medicine</td>\n",
       "      <td>If you are looking for the secret ingredient i...</td>\n",
       "    </tr>\n",
       "    <tr>\n",
       "      <th>4</th>\n",
       "      <td>5</td>\n",
       "      <td>0.000</td>\n",
       "      <td>0.552</td>\n",
       "      <td>0.448</td>\n",
       "      <td>0.9468</td>\n",
       "      <td>B006K2ZZ7K</td>\n",
       "      <td>A1UQRSCLF8GW1T</td>\n",
       "      <td>Michael D. Bigham \"M. Wassir\"</td>\n",
       "      <td>0</td>\n",
       "      <td>0</td>\n",
       "      <td>5</td>\n",
       "      <td>1350777600</td>\n",
       "      <td>Great taffy</td>\n",
       "      <td>Great taffy at a great price.  There was a wid...</td>\n",
       "    </tr>\n",
       "  </tbody>\n",
       "</table>\n",
       "</div>"
      ],
      "text/plain": [
       "   Id    neg    neu    pos  compound   ProductId          UserId  \\\n",
       "0   1  0.000  0.695  0.305    0.9441  B001E4KFG0  A3SGXH7AUHU8GW   \n",
       "1   2  0.079  0.853  0.068   -0.1027  B00813GRG4  A1D87F6ZCVE5NK   \n",
       "2   3  0.091  0.754  0.155    0.8265  B000LQOCH0   ABXLMWJIXXAIN   \n",
       "3   4  0.000  1.000  0.000    0.0000  B000UA0QIQ  A395BORC6FGVXV   \n",
       "4   5  0.000  0.552  0.448    0.9468  B006K2ZZ7K  A1UQRSCLF8GW1T   \n",
       "\n",
       "                       ProfileName  HelpfulnessNumerator  \\\n",
       "0                       delmartian                     1   \n",
       "1                           dll pa                     0   \n",
       "2  Natalia Corres \"Natalia Corres\"                     1   \n",
       "3                             Karl                     3   \n",
       "4    Michael D. Bigham \"M. Wassir\"                     0   \n",
       "\n",
       "   HelpfulnessDenominator  Score        Time                Summary  \\\n",
       "0                       1      5  1303862400  Good Quality Dog Food   \n",
       "1                       0      1  1346976000      Not as Advertised   \n",
       "2                       1      4  1219017600  \"Delight\" says it all   \n",
       "3                       3      2  1307923200         Cough Medicine   \n",
       "4                       0      5  1350777600            Great taffy   \n",
       "\n",
       "                                                Text  \n",
       "0  I have bought several of the Vitality canned d...  \n",
       "1  Product arrived labeled as Jumbo Salted Peanut...  \n",
       "2  This is a confection that has been around a fe...  \n",
       "3  If you are looking for the secret ingredient i...  \n",
       "4  Great taffy at a great price.  There was a wid...  "
      ]
     },
     "execution_count": 13,
     "metadata": {},
     "output_type": "execute_result"
    }
   ],
   "source": [
    "vaders.head()"
   ]
  },
  {
   "cell_type": "markdown",
   "id": "e4c2c4b5",
   "metadata": {
    "papermill": {
     "duration": 0.0091,
     "end_time": "2024-02-11T18:47:20.667438",
     "exception": false,
     "start_time": "2024-02-11T18:47:20.658338",
     "status": "completed"
    },
    "tags": []
   },
   "source": [
    "### Plot VADER Results"
   ]
  },
  {
   "cell_type": "code",
   "execution_count": 14,
   "id": "5abb928a",
   "metadata": {
    "execution": {
     "iopub.execute_input": "2024-02-11T18:47:20.688202Z",
     "iopub.status.busy": "2024-02-11T18:47:20.687796Z",
     "iopub.status.idle": "2024-02-11T18:47:21.058514Z",
     "shell.execute_reply": "2024-02-11T18:47:21.057480Z"
    },
    "papermill": {
     "duration": 0.384352,
     "end_time": "2024-02-11T18:47:21.061095",
     "exception": false,
     "start_time": "2024-02-11T18:47:20.676743",
     "status": "completed"
    },
    "tags": []
   },
   "outputs": [
    {
     "data": {
      "image/png": "[encoded data removed]",
      "text/plain": [
       "<Figure size 640x480 with 1 Axes>"
      ]
     },
     "metadata": {},
     "output_type": "display_data"
    }
   ],
   "source": [
    "ax = sns.barplot(data=vaders, x='Score', y='compound')\n",
    "ax.set_title(\"Compound Score by Amazon Star Review\")\n",
    "plt.show()"
   ]
  },
  {
   "cell_type": "code",
   "execution_count": 15,
   "id": "a973794f",
   "metadata": {
    "execution": {
     "iopub.execute_input": "2024-02-11T18:47:21.083392Z",
     "iopub.status.busy": "2024-02-11T18:47:21.082954Z",
     "iopub.status.idle": "2024-02-11T18:47:22.191755Z",
     "shell.execute_reply": "2024-02-11T18:47:22.190413Z"
    },
    "papermill": {
     "duration": 1.123372,
     "end_time": "2024-02-11T18:47:22.194476",
     "exception": false,
     "start_time": "2024-02-11T18:47:21.071104",
     "status": "completed"
    },
    "tags": []
   },
   "outputs": [
    {
     "data": {
      "image/png": "[encoded data removed]",
      "text/plain": [
       "<Figure size 1200x300 with 3 Axes>"
      ]
     },
     "metadata": {},
     "output_type": "display_data"
    }
   ],
   "source": [
    "fig, axs = plt.subplots(1, 3, figsize=(12, 3))\n",
    "sns.barplot(data=vaders, x='Score', y='pos', ax=axs[0])\n",
    "sns.barplot(data=vaders, x='Score', y='neu', ax=axs[1])\n",
    "sns.barplot(data=vaders, x='Score', y='neg', ax=axs[2])\n",
    "axs[0].set_title('Positive')\n",
    "axs[1].set_title('Neutral')\n",
    "axs[2].set_title('Negative')\n",
    "plt.tight_layout()\n",
    "plt.show()"
   ]
  },
  {
   "cell_type": "code",
   "execution_count": null,
   "id": "bba22adb",
   "metadata": {
    "papermill": {
     "duration": 0.010506,
     "end_time": "2024-02-11T18:47:22.215356",
     "exception": false,
     "start_time": "2024-02-11T18:47:22.204850",
     "status": "completed"
    },
    "tags": []
   },
   "outputs": [],
   "source": []
  }
 ],
 "metadata": {
  "kaggle": {
   "accelerator": "none",
   "dataSources": [
    {
     "datasetId": 4429146,
     "sourceId": 7607096,
     "sourceType": "datasetVersion"
    }
   ],
   "dockerImageVersionId": 30646,
   "isGpuEnabled": false,
   "isInternetEnabled": false,
   "language": "python",
   "sourceType": "notebook"
  },
  "kernelspec": {
   "display_name": "Python 3",
   "language": "python",
   "name": "python3"
  },
  "language_info": {
   "codemirror_mode": {
    "name": "ipython",
    "version": 3
   },
   "file_extension": ".py",
   "mimetype": "text/x-python",
   "name": "python",
   "nbconvert_exporter": "python",
   "pygments_lexer": "ipython3",
   "version": "3.10.13"
  },
  "papermill": {
   "default_parameters": {},
   "duration": 18.319536,
   "end_time": "2024-02-11T18:47:23.149302",
   "environment_variables": {},
   "exception": null,
   "input_path": "__notebook__.ipynb",
   "output_path": "__notebook__.ipynb",
   "parameters": {},
   "start_time": "2024-02-11T18:47:04.829766",
   "version": "2.5.0"
  },
  "widgets": {
   "application/vnd.jupyter.widget-state+json": {
    "state": {
     "405b6920e18b4ae6b1afab3ce1446954": {
      "model_module": "@jupyter-widgets/controls",
      "model_module_version": "1.5.0",
      "model_name": "FloatProgressModel",
      "state": {
       "_dom_classes": [],
       "_model_module": "@jupyter-widgets/controls",
       "_model_module_version": "1.5.0",
       "_model_name": "FloatProgressModel",
       "_view_count": null,
       "_view_module": "@jupyter-widgets/controls",
       "_view_module_version": "1.5.0",
       "_view_name": "ProgressView",
       "bar_style": "success",
       "description": "",
       "description_tooltip": null,
       "layout": "IPY_MODEL_b776586e6b014e84a3bf1a83f7caac23",
       "max": 500.0,
       "min": 0.0,
       "orientation": "horizontal",
       "style": "IPY_MODEL_84dab498b8d749d3bcaf7e1679f4371d",
       "value": 500.0
      }
     },
     "4ea4362967614b7da28a75eb6f6a183a": {
      "model_module": "@jupyter-widgets/base",
      "model_module_version": "1.2.0",
      "model_name": "LayoutModel",
      "state": {
       "_model_module": "@jupyter-widgets/base",
       "_model_module_version": "1.2.0",
       "_model_name": "LayoutModel",
       "_view_count": null,
       "_view_module": "@jupyter-widgets/base",
       "_view_module_version": "1.2.0",
       "_view_name": "LayoutView",
       "align_content": null,
       "align_items": null,
       "align_self": null,
       "border": null,
       "bottom": null,
       "display": null,
       "flex": null,
       "flex_flow": null,
       "grid_area": null,
       "grid_auto_columns": null,
       "grid_auto_flow": null,
       "grid_auto_rows": null,
       "grid_column": null,
       "grid_gap": null,
       "grid_row": null,
       "grid_template_areas": null,
       "grid_template_columns": null,
       "grid_template_rows": null,
       "height": null,
       "justify_content": null,
       "justify_items": null,
       "left": null,
       "margin": null,
       "max_height": null,
       "max_width": null,
       "min_height": null,
       "min_width": null,
       "object_fit": null,
       "object_position": null,
       "order": null,
       "overflow": null,
       "overflow_x": null,
       "overflow_y": null,
       "padding": null,
       "right": null,
       "top": null,
       "visibility": null,
       "width": null
      }
     },
     "6af767d95c7b4843829b99d62d0a1b1b": {
      "model_module": "@jupyter-widgets/controls",
      "model_module_version": "1.5.0",
      "model_name": "DescriptionStyleModel",
      "state": {
       "_model_module": "@jupyter-widgets/controls",
       "_model_module_version": "1.5.0",
       "_model_name": "DescriptionStyleModel",
       "_view_count": null,
       "_view_module": "@jupyter-widgets/base",
       "_view_module_version": "1.2.0",
       "_view_name": "StyleView",
       "description_width": ""
      }
     },
     "6ff9dc0138ef4a878386f7bd658c3948": {
      "model_module": "@jupyter-widgets/controls",
      "model_module_version": "1.5.0",
      "model_name": "HBoxModel",
      "state": {
       "_dom_classes": [],
       "_model_module": "@jupyter-widgets/controls",
       "_model_module_version": "1.5.0",
       "_model_name": "HBoxModel",
       "_view_count": null,
       "_view_module": "@jupyter-widgets/controls",
       "_view_module_version": "1.5.0",
       "_view_name": "HBoxView",
       "box_style": "",
       "children": [
        "IPY_MODEL_9818d3a6a0394532be56f00d7c92be7a",
        "IPY_MODEL_405b6920e18b4ae6b1afab3ce1446954",
        "IPY_MODEL_c2e18244c1be4933aab1d03480a46933"
       ],
       "layout": "IPY_MODEL_4ea4362967614b7da28a75eb6f6a183a"
      }
     },
     "84dab498b8d749d3bcaf7e1679f4371d": {
      "model_module": "@jupyter-widgets/controls",
      "model_module_version": "1.5.0",
      "model_name": "ProgressStyleModel",
      "state": {
       "_model_module": "@jupyter-widgets/controls",
       "_model_module_version": "1.5.0",
       "_model_name": "ProgressStyleModel",
       "_view_count": null,
       "_view_module": "@jupyter-widgets/base",
       "_view_module_version": "1.2.0",
       "_view_name": "StyleView",
       "bar_color": null,
       "description_width": ""
      }
     },
     "8bd3fa033ce54afba10bc771b61ee733": {
      "model_module": "@jupyter-widgets/controls",
      "model_module_version": "1.5.0",
      "model_name": "DescriptionStyleModel",
      "state": {
       "_model_module": "@jupyter-widgets/controls",
       "_model_module_version": "1.5.0",
       "_model_name": "DescriptionStyleModel",
       "_view_count": null,
       "_view_module": "@jupyter-widgets/base",
       "_view_module_version": "1.2.0",
       "_view_name": "StyleView",
       "description_width": ""
      }
     },
     "9818d3a6a0394532be56f00d7c92be7a": {
      "model_module": "@jupyter-widgets/controls",
      "model_module_version": "1.5.0",
      "model_name": "HTMLModel",
      "state": {
       "_dom_classes": [],
       "_model_module": "@jupyter-widgets/controls",
       "_model_module_version": "1.5.0",
       "_model_name": "HTMLModel",
       "_view_count": null,
       "_view_module": "@jupyter-widgets/controls",
       "_view_module_version": "1.5.0",
       "_view_name": "HTMLView",
       "description": "",
       "description_tooltip": null,
       "layout": "IPY_MODEL_e62b969eb5a44638ae313cea2c5ece7a",
       "placeholder": "​",
       "style": "IPY_MODEL_8bd3fa033ce54afba10bc771b61ee733",
       "value": "100%"
      }
     },
     "b776586e6b014e84a3bf1a83f7caac23": {
      "model_module": "@jupyter-widgets/base",
      "model_module_version": "1.2.0",
      "model_name": "LayoutModel",
      "state": {
       "_model_module": "@jupyter-widgets/base",
       "_model_module_version": "1.2.0",
       "_model_name": "LayoutModel",
       "_view_count": null,
       "_view_module": "@jupyter-widgets/base",
       "_view_module_version": "1.2.0",
       "_view_name": "LayoutView",
       "align_content": null,
       "align_items": null,
       "align_self": null,
       "border": null,
       "bottom": null,
       "display": null,
       "flex": null,
       "flex_flow": null,
       "grid_area": null,
       "grid_auto_columns": null,
       "grid_auto_flow": null,
       "grid_auto_rows": null,
       "grid_column": null,
       "grid_gap": null,
       "grid_row": null,
       "grid_template_areas": null,
       "grid_template_columns": null,
       "grid_template_rows": null,
       "height": null,
       "justify_content": null,
       "justify_items": null,
       "left": null,
       "margin": null,
       "max_height": null,
       "max_width": null,
       "min_height": null,
       "min_width": null,
       "object_fit": null,
       "object_position": null,
       "order": null,
       "overflow": null,
       "overflow_x": null,
       "overflow_y": null,
       "padding": null,
       "right": null,
       "top": null,
       "visibility": null,
       "width": null
      }
     },
     "c2e18244c1be4933aab1d03480a46933": {
      "model_module": "@jupyter-widgets/controls",
      "model_module_version": "1.5.0",
      "model_name": "HTMLModel",
      "state": {
       "_dom_classes": [],
       "_model_module": "@jupyter-widgets/controls",
       "_model_module_version": "1.5.0",
       "_model_name": "HTMLModel",
       "_view_count": null,
       "_view_module": "@jupyter-widgets/controls",
       "_view_module_version": "1.5.0",
       "_view_name": "HTMLView",
       "description": "",
       "description_tooltip": null,
       "layout": "IPY_MODEL_d46b095367b7493abacdb973e34303f4",
       "placeholder": "​",
       "style": "IPY_MODEL_6af767d95c7b4843829b99d62d0a1b1b",
       "value": " 500/500 [00:00&lt;00:00, 772.80it/s]"
      }
     },
     "d46b095367b7493abacdb973e34303f4": {
      "model_module": "@jupyter-widgets/base",
      "model_module_version": "1.2.0",
      "model_name": "LayoutModel",
      "state": {
       "_model_module": "@jupyter-widgets/base",
       "_model_module_version": "1.2.0",
       "_model_name": "LayoutModel",
       "_view_count": null,
       "_view_module": "@jupyter-widgets/base",
       "_view_module_version": "1.2.0",
       "_view_name": "LayoutView",
       "align_content": null,
       "align_items": null,
       "align_self": null,
       "border": null,
       "bottom": null,
       "display": null,
       "flex": null,
       "flex_flow": null,
       "grid_area": null,
       "grid_auto_columns": null,
       "grid_auto_flow": null,
       "grid_auto_rows": null,
       "grid_column": null,
       "grid_gap": null,
       "grid_row": null,
       "grid_template_areas": null,
       "grid_template_columns": null,
       "grid_template_rows": null,
       "height": null,
       "justify_content": null,
       "justify_items": null,
       "left": null,
       "margin": null,
       "max_height": null,
       "max_width": null,
       "min_height": null,
       "min_width": null,
       "object_fit": null,
       "object_position": null,
       "order": null,
       "overflow": null,
       "overflow_x": null,
       "overflow_y": null,
       "padding": null,
       "right": null,
       "top": null,
       "visibility": null,
       "width": null
      }
     },
     "e62b969eb5a44638ae313cea2c5ece7a": {
      "model_module": "@jupyter-widgets/base",
      "model_module_version": "1.2.0",
      "model_name": "LayoutModel",
      "state": {
       "_model_module": "@jupyter-widgets/base",
       "_model_module_version": "1.2.0",
       "_model_name": "LayoutModel",
       "_view_count": null,
       "_view_module": "@jupyter-widgets/base",
       "_view_module_version": "1.2.0",
       "_view_name": "LayoutView",
       "align_content": null,
       "align_items": null,
       "align_self": null,
       "border": null,
       "bottom": null,
       "display": null,
       "flex": null,
       "flex_flow": null,
       "grid_area": null,
       "grid_auto_columns": null,
       "grid_auto_flow": null,
       "grid_auto_rows": null,
       "grid_column": null,
       "grid_gap": null,
       "grid_row": null,
       "grid_template_areas": null,
       "grid_template_columns": null,
       "grid_template_rows": null,
       "height": null,
       "justify_content": null,
       "justify_items": null,
       "left": null,
       "margin": null,
       "max_height": null,
       "max_width": null,
       "min_height": null,
       "min_width": null,
       "object_fit": null,
       "object_position": null,
       "order": null,
       "overflow": null,
       "overflow_x": null,
       "overflow_y": null,
       "padding": null,
       "right": null,
       "top": null,
       "visibility": null,
       "width": null
      }
     }
    },
    "version_major": 2,
    "version_minor": 0
   }
  }
 },
 "nbformat": 4,
 "nbformat_minor": 5
}
